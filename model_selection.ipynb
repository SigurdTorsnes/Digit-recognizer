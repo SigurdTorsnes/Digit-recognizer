{
 "cells": [
  {
   "cell_type": "code",
   "execution_count": 91,
   "metadata": {},
   "outputs": [],
   "source": [
    "from sklearn.model_selection import train_test_split\n",
    "from sklearn import metrics\n",
    "import matplotlib.pyplot as plt\n",
    "import numpy as np\n",
    "import pandas as pd\n",
    "\n",
    "# Classifiers:\n",
    "from sklearn.tree import DecisionTreeClassifier\n",
    "from sklearn.neighbors import KNeighborsClassifier"
   ]
  },
  {
   "cell_type": "markdown",
   "metadata": {},
   "source": [
    "Load data, reshape X, and split into training, testing and validation data"
   ]
  },
  {
   "cell_type": "code",
   "execution_count": 92,
   "metadata": {},
   "outputs": [],
   "source": [
    "y = np.load('MNIST-labels.npy')\n",
    "X = np.load('MNIST-images.npy')\n",
    "\n",
    "X= X.reshape(X.shape[0], 576)\n",
    "X_train,X_test_val,y_train,y_test_val = train_test_split(X, y, test_size=0.2, random_state = 42)\n",
    "X_test,X_val,y_test,y_val = train_test_split(X_test_val, y_test_val, test_size=0.5, random_state = 42)\n",
    "\n",
    "accuracy_df = pd.DataFrame(columns=['Classifier','Accuracy score'])"
   ]
  },
  {
   "cell_type": "markdown",
   "metadata": {},
   "source": [
    "Function for evaltuating a given classifier. Currently we do this by checking the accuracy score and by plotting the confusion matrix "
   ]
  },
  {
   "cell_type": "code",
   "execution_count": 93,
   "metadata": {},
   "outputs": [],
   "source": [
    "def evaluate_classifier(clf,classifier_name,k=1):\n",
    "    clf.fit(X_train,y_train)\n",
    "    y_pred = clf.predict(X_val)\n",
    "    accuracy = metrics.accuracy_score(y_val,y_pred)\n",
    "    # print(\"The accuracy score of \" + str(classifier_name) + \": \" + str(accuracy))\n",
    "    # plt.imshow(metrics.confusion_matrix(y_val,y_pred),cmap='gray')\n",
    "    # plt.title(\"Confusion matrix for \" + str(classifier_name) +\"  on validation data\")\n",
    "    current_accuracy_df = {\n",
    "    'Classifier' : [classifier_name+\" \"+str(k)],\n",
    "    'Accuracy score' : [accuracy]\n",
    "    }\n",
    "    current_accuracy_df = pd.DataFrame(current_accuracy_df)\n",
    "    return current_accuracy_df\n",
    "\n",
    "    "
   ]
  },
  {
   "cell_type": "markdown",
   "metadata": {},
   "source": [
    "Decision tree classifier:"
   ]
  },
  {
   "cell_type": "code",
   "execution_count": 94,
   "metadata": {},
   "outputs": [],
   "source": [
    "dtc = DecisionTreeClassifier(splitter='random', random_state=1) # Splitter random to avoid very long runtime\n",
    "dtc_accuracy = evaluate_classifier(dtc,\"decision tree classifier\")\n",
    "accuracy_df = pd.concat([accuracy_df, dtc_accuracy])"
   ]
  },
  {
   "cell_type": "markdown",
   "metadata": {},
   "source": [
    "K nearest neighbors:"
   ]
  },
  {
   "cell_type": "code",
   "execution_count": 96,
   "metadata": {},
   "outputs": [],
   "source": [
    "ks = [1,5,10,15,20,30,50]\n",
    "\n",
    "for k in ks:\n",
    "    knn = KNeighborsClassifier(n_neighbors=k)\n",
    "    knn_accuracy = evaluate_classifier(knn,'K nearest neighbors',k)\n",
    "    accuracy_df = pd.concat([accuracy_df,knn_accuracy])"
   ]
  },
  {
   "cell_type": "code",
   "execution_count": 101,
   "metadata": {},
   "outputs": [
    {
     "data": {
      "text/html": [
       "<div>\n",
       "<style scoped>\n",
       "    .dataframe tbody tr th:only-of-type {\n",
       "        vertical-align: middle;\n",
       "    }\n",
       "\n",
       "    .dataframe tbody tr th {\n",
       "        vertical-align: top;\n",
       "    }\n",
       "\n",
       "    .dataframe thead th {\n",
       "        text-align: right;\n",
       "    }\n",
       "</style>\n",
       "<table border=\"1\" class=\"dataframe\">\n",
       "  <thead>\n",
       "    <tr style=\"text-align: right;\">\n",
       "      <th></th>\n",
       "      <th>Classifier</th>\n",
       "      <th>Accuracy score</th>\n",
       "    </tr>\n",
       "  </thead>\n",
       "  <tbody>\n",
       "    <tr>\n",
       "      <th>0</th>\n",
       "      <td>decision tree classifier 1</td>\n",
       "      <td>0.754808</td>\n",
       "    </tr>\n",
       "    <tr>\n",
       "      <th>0</th>\n",
       "      <td>K nearest neighbors 1</td>\n",
       "      <td>0.793738</td>\n",
       "    </tr>\n",
       "    <tr>\n",
       "      <th>0</th>\n",
       "      <td>K nearest neighbors 1</td>\n",
       "      <td>0.804526</td>\n",
       "    </tr>\n",
       "    <tr>\n",
       "      <th>0</th>\n",
       "      <td>K nearest neighbors 5</td>\n",
       "      <td>0.793738</td>\n",
       "    </tr>\n",
       "    <tr>\n",
       "      <th>0</th>\n",
       "      <td>K nearest neighbors 10</td>\n",
       "      <td>0.783888</td>\n",
       "    </tr>\n",
       "    <tr>\n",
       "      <th>0</th>\n",
       "      <td>K nearest neighbors 15</td>\n",
       "      <td>0.772162</td>\n",
       "    </tr>\n",
       "    <tr>\n",
       "      <th>0</th>\n",
       "      <td>K nearest neighbors 20</td>\n",
       "      <td>0.766534</td>\n",
       "    </tr>\n",
       "    <tr>\n",
       "      <th>0</th>\n",
       "      <td>K nearest neighbors 30</td>\n",
       "      <td>0.750821</td>\n",
       "    </tr>\n",
       "    <tr>\n",
       "      <th>0</th>\n",
       "      <td>K nearest neighbors 50</td>\n",
       "      <td>0.735460</td>\n",
       "    </tr>\n",
       "  </tbody>\n",
       "</table>\n",
       "</div>"
      ],
      "text/plain": [
       "                   Classifier  Accuracy score\n",
       "0  decision tree classifier 1        0.754808\n",
       "0       K nearest neighbors 1        0.793738\n",
       "0       K nearest neighbors 1        0.804526\n",
       "0       K nearest neighbors 5        0.793738\n",
       "0      K nearest neighbors 10        0.783888\n",
       "0      K nearest neighbors 15        0.772162\n",
       "0      K nearest neighbors 20        0.766534\n",
       "0      K nearest neighbors 30        0.750821\n",
       "0      K nearest neighbors 50        0.735460"
      ]
     },
     "execution_count": 101,
     "metadata": {},
     "output_type": "execute_result"
    }
   ],
   "source": [
    "accuracy_df#.sort_values(by='accuracy_df')"
   ]
  }
 ],
 "metadata": {
  "kernelspec": {
   "display_name": "Python 3.10.7 64-bit",
   "language": "python",
   "name": "python3"
  },
  "language_info": {
   "codemirror_mode": {
    "name": "ipython",
    "version": 3
   },
   "file_extension": ".py",
   "mimetype": "text/x-python",
   "name": "python",
   "nbconvert_exporter": "python",
   "pygments_lexer": "ipython3",
   "version": "3.10.7"
  },
  "orig_nbformat": 4,
  "vscode": {
   "interpreter": {
    "hash": "5680bc3b1f63aeedc3f37ca163edd8f970216819f4d026d9c6accb15d35fa2c8"
   }
  }
 },
 "nbformat": 4,
 "nbformat_minor": 2
}
